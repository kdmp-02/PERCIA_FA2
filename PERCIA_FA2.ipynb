{
 "cells": [
  {
   "cell_type": "code",
   "execution_count": 6,
   "metadata": {},
   "outputs": [
    {
     "name": "stdout",
     "output_type": "stream",
     "text": [
      "The product of the all the numbers from the list is -33600.\n"
     ]
    }
   ],
   "source": [
    "#Number 1\n",
    "\n",
    "def multiply_list(numbers):\n",
    "    product = 1\n",
    "    for x in numbers:\n",
    "        product *= x\n",
    "    return product\n",
    "\n",
    "numbers = (5, 6, -1, 2, 4, -2, -10, 7)\n",
    "\n",
    "print(\"The product of the all the numbers from the list is \" + str(multiply_list(numbers)) + \".\")"
   ]
  },
  {
   "cell_type": "code",
   "execution_count": 3,
   "metadata": {},
   "outputs": [
    {
     "name": "stdout",
     "output_type": "stream",
     "text": [
      "Number of Rows : 3\n",
      "Number of Columns : 4\n",
      "+ - - - - + - - - - + - - - - + - - - - +\n",
      "|         |         |         |         |\n",
      "|         |         |         |         |\n",
      "|         |         |         |         |\n",
      "|         |         |         |         |\n",
      "+ - - - - + - - - - + - - - - + - - - - +\n",
      "|         |         |         |         |\n",
      "|         |         |         |         |\n",
      "|         |         |         |         |\n",
      "|         |         |         |         |\n",
      "+ - - - - + - - - - + - - - - + - - - - +\n",
      "|         |         |         |         |\n",
      "|         |         |         |         |\n",
      "|         |         |         |         |\n",
      "|         |         |         |         |\n",
      "+ - - - - + - - - - + - - - - + - - - - +\n"
     ]
    }
   ],
   "source": [
    "#Number 2\n",
    "\n",
    "def draw_grid(rows, cols):\n",
    "    for i in range(rows):\n",
    "        print(\"+\", end=\"\")\n",
    "        for j in range(cols):\n",
    "            print(\" - - - - +\", end=\"\")\n",
    "        print()\n",
    "        \n",
    "        for k in range(4):\n",
    "            print(\"|\", end=\"\")\n",
    "            for j in range(cols):\n",
    "                print(\"         |\", end=\"\")\n",
    "            print()\n",
    "    \n",
    "    print(\"+\", end=\"\")\n",
    "    for j in range(cols):\n",
    "        print(\" - - - - +\", end=\"\")\n",
    "    print()\n",
    "\n",
    "r = int(input(\"Number of Rows : \"))\n",
    "c = int(input(\"Number of Columns : \"))\n",
    "\n",
    "draw_grid(r, c)  # Draws a grid with r rows and c columns (user input)"
   ]
  }
 ],
 "metadata": {
  "kernelspec": {
   "display_name": "Python 3",
   "language": "python",
   "name": "python3"
  },
  "language_info": {
   "codemirror_mode": {
    "name": "ipython",
    "version": 3
   },
   "file_extension": ".py",
   "mimetype": "text/x-python",
   "name": "python",
   "nbconvert_exporter": "python",
   "pygments_lexer": "ipython3",
   "version": "3.7.0"
  }
 },
 "nbformat": 4,
 "nbformat_minor": 2
}
